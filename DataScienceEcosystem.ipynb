{
 "cells": [
  {
   "cell_type": "markdown",
   "id": "ae4b0604-78dc-4830-a9e5-b61b758b57e4",
   "metadata": {},
   "source": [
    "# Data Science Tools and Ecosystem"
   ]
  },
  {
   "cell_type": "markdown",
   "id": "9fc03373-9d41-4f3c-80c8-ccf4b9fb85e0",
   "metadata": {},
   "source": [
    "In this notebook, Data Science Tools and Ecosystem are summarized.\n",
    "\n",
    "Some of the popular languages that Data Scientists use are:\n",
    "\n",
    "1. R\n",
    "2. Python \n",
    "3. SQL"
   ]
  },
  {
   "cell_type": "markdown",
   "id": "ddb33011-7a17-474f-825e-1593befd2c65",
   "metadata": {},
   "source": [
    "Some of the commonly used libraries used by Data Scientists include:\n",
    "    \n",
    "    1.NumPy\n",
    "    2.Pandas\n",
    "    3.Matplotlib"
   ]
  },
  {
   "cell_type": "markdown",
   "id": "ce56c071-68df-4ca9-8950-2d59b20dfc49",
   "metadata": {},
   "source": [
    "| Column 1 | \n",
    "|:--------:|\n",
    "|  Jupyter Labs   | \n",
    "|  Git Hub   |  \n",
    "|  R Studio  | "
   ]
  },
  {
   "cell_type": "markdown",
   "id": "41778117-e7e1-4c4e-9689-53ff94d4d180",
   "metadata": {},
   "source": [
    "### Below are a few examples of evaluating arithmetic expressions in Python"
   ]
  },
  {
   "cell_type": "code",
   "execution_count": 1,
   "id": "7f4c3e4c-b7a8-49b6-8e59-e83230cd30c7",
   "metadata": {
    "tags": []
   },
   "outputs": [
    {
     "data": {
      "text/plain": [
       "17"
      ]
     },
     "execution_count": 1,
     "metadata": {},
     "output_type": "execute_result"
    }
   ],
   "source": [
    "#This a simple arithmetic expression to mutiply then add integers\n",
    "(3*4)+5"
   ]
  },
  {
   "cell_type": "code",
   "execution_count": 2,
   "id": "4e9545f1-ef62-4da1-8ee7-d20eb5598411",
   "metadata": {
    "tags": []
   },
   "outputs": [
    {
     "name": "stdout",
     "output_type": "stream",
     "text": [
      "3.3333333333333335\n"
     ]
    }
   ],
   "source": [
    "#This will convert 200 minutes to hours by diving by 60\n",
    "minutes = 200\n",
    "hours = minutes/60\n",
    "print(hours)\n"
   ]
  },
  {
   "cell_type": "markdown",
   "id": "736a39de-c043-4c70-bbe3-85aafccf4899",
   "metadata": {},
   "source": [
    "**Objectives:**\n",
    "\n",
    "* List popular data science languages\n",
    "* List popular data science libraries\n",
    "* List popular data science tools\n",
    "* Demonstrate arithmetic with python\n",
    "* List objectives\n",
    "\n"
   ]
  },
  {
   "cell_type": "markdown",
   "id": "f410df78-25ba-4a2e-b05c-2e49ea0ddf2f",
   "metadata": {},
   "source": [
    "## Author\n",
    "Samuel Thurlow"
   ]
  },
  {
   "cell_type": "code",
   "execution_count": null,
   "id": "5e1cfe8e-7412-4f82-8205-e2dbb5ebc624",
   "metadata": {},
   "outputs": [],
   "source": []
  }
 ],
 "metadata": {
  "kernelspec": {
   "display_name": "Python",
   "language": "python",
   "name": "conda-env-python-py"
  },
  "language_info": {
   "codemirror_mode": {
    "name": "ipython",
    "version": 3
   },
   "file_extension": ".py",
   "mimetype": "text/x-python",
   "name": "python",
   "nbconvert_exporter": "python",
   "pygments_lexer": "ipython3",
   "version": "3.7.12"
  }
 },
 "nbformat": 4,
 "nbformat_minor": 5
}
